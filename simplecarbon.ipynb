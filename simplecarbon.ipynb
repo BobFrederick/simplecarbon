{
 "metadata": {
  "language_info": {
   "codemirror_mode": {
    "name": "ipython",
    "version": 3
   },
   "file_extension": ".py",
   "mimetype": "text/x-python",
   "name": "python",
   "nbconvert_exporter": "python",
   "pygments_lexer": "ipython3",
   "version": "3.8.2-final"
  },
  "orig_nbformat": 2,
  "kernelspec": {
   "name": "python3",
   "display_name": "Python 3.8.2 32-bit ('simplecarbon': pipenv)",
   "metadata": {
    "interpreter": {
     "hash": "145fb56edbb13cfb441cf2dfde8d4f314712511da72b1a5361372e69cd86a876"
    }
   }
  }
 },
 "nbformat": 4,
 "nbformat_minor": 2,
 "cells": [
  {
   "cell_type": "code",
   "execution_count": 2,
   "metadata": {},
   "outputs": [],
   "source": [
    "from urllib import parse, request\n",
    "from bs4 import BeautifulSoup\n",
    "from fastapi import FastAPI"
   ]
  },
  {
   "source": [
    "## Get the Data ##\n",
    "* Make a simple http POST to pass parameters\n",
    "* Parse the html and extract the embodied carbon result"
   ],
   "cell_type": "markdown",
   "metadata": {}
  },
  {
   "cell_type": "code",
   "execution_count": 5,
   "metadata": {},
   "outputs": [],
   "source": [
    "parameters = {\n",
    "    'total_sf': 5000,\n",
    "    'stories_above': 1,\n",
    "    'stories_below': 1,\n",
    "    'ssystem': 'concrete',\n",
    "    'ddlEcoRegion': 'Southern semi-arid highlands',\n",
    "    'ddlExisting': 'Shrubland',\n",
    "    'ddlNewType': 'Shrubland',\n",
    "    'land_disturbed': 3000,\n",
    "    'land_installed': 8000,\n",
    "    'agree_terms': 'agrees',\n",
    "    'submit':'Calculate'\n",
    "}"
   ]
  },
  {
   "cell_type": "code",
   "execution_count": 6,
   "metadata": {},
   "outputs": [
    {
     "output_type": "stream",
     "name": "stdout",
     "text": [
      "b'total_sf=5000&stories_above=1&stories_below=1&ssystem=concrete&ddlEcoRegion=Southern+semi-arid+highlands&ddlExisting=Shrubland&ddlNewType=Shrubland&land_disturbed=3000&land_installed=8000&agree_terms=agrees&submit=Calculate'\n"
     ]
    }
   ],
   "source": [
    "data = parse.urlencode(parameters).encode()\n",
    "print(data)\n",
    "req = request.Request(r'http://www.buildcarbonneutral.org/calculated.php', data=data)\n",
    "resp = request.urlopen(req)"
   ]
  },
  {
   "cell_type": "code",
   "execution_count": 4,
   "metadata": {},
   "outputs": [],
   "source": [
    "content = resp.read()"
   ]
  },
  {
   "cell_type": "code",
   "execution_count": 5,
   "metadata": {},
   "outputs": [],
   "source": [
    "soup = BeautifulSoup(content, \"html.parser\")"
   ]
  },
  {
   "cell_type": "code",
   "execution_count": 14,
   "metadata": {},
   "outputs": [],
   "source": [
    "calc_data = soup.find_all(class_=\"calc_result\")[0].get_text()"
   ]
  },
  {
   "cell_type": "code",
   "execution_count": 15,
   "metadata": {},
   "outputs": [
    {
     "output_type": "stream",
     "name": "stdout",
     "text": [
      "Approximate net embodied CO2 for this project is 208 metric tons.\n"
     ]
    }
   ],
   "source": [
    "print(calc_data)"
   ]
  }
 ]
}